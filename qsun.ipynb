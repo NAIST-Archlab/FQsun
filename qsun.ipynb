{
 "cells": [
  {
   "cell_type": "markdown",
   "metadata": {},
   "source": [
    "Tested Gate: H,S,CNOT (CX), RX, RY, RZ"
   ]
  },
  {
   "cell_type": "code",
   "execution_count": 2,
   "metadata": {},
   "outputs": [
    {
     "name": "stdout",
     "output_type": "stream",
     "text": [
      "[0.70710678+0.j 0.        +0.j 0.        +0.j 0.70710678+0.j]\n"
     ]
    }
   ],
   "source": [
    "from Qsun import Qcircuit\n",
    "from Qsun import Qgates\n",
    "from Qsun import Qmeas\n",
    "\n",
    "n = 2\n",
    "circuit = Qcircuit.Qubit(n)\n",
    "Qgates.H(circuit, 0)\n",
    "Qgates.CNOT(circuit, 0, 1)\n",
    "print(circuit.amplitude)\n"
   ]
  },
  {
   "cell_type": "code",
   "execution_count": 1,
   "metadata": {},
   "outputs": [
    {
     "name": "stdout",
     "output_type": "stream",
     "text": [
      "[ 0.81188315-0.22469527j  0.        +0.j          0.        +0.j\n",
      "  0.        +0.j          0.21684799-0.06001444j  0.        +0.j\n",
      "  0.        +0.j          0.        +0.j          0.        +0.j\n",
      "  0.        +0.j          0.        +0.j          0.        +0.j\n",
      "  0.        +0.j          0.        +0.j          0.        +0.j\n",
      "  0.        +0.j         -0.12617542-0.455905j    0.        +0.j\n",
      "  0.        +0.j          0.        +0.j         -0.03370052-0.12176885j\n",
      "  0.        +0.j          0.        +0.j          0.        +0.j\n",
      "  0.        +0.j          0.        +0.j          0.        +0.j\n",
      "  0.        +0.j          0.        +0.j          0.        +0.j\n",
      "  0.        +0.j          0.        +0.j        ]\n",
      "['00000' '00001' '00010' '00011' '00100' '00101' '00110' '00111' '01000'\n",
      " '01001' '01010' '01011' '01100' '01101' '01110' '01111' '10000' '10001'\n",
      " '10010' '10011' '10100' '10101' '10110' '10111' '11000' '11001' '11010'\n",
      " '11011' '11100' '11101' '11110' '11111']\n"
     ]
    }
   ],
   "source": [
    "from Qsun import Qcircuit\n",
    "from Qsun import Qgates\n",
    "from Qsun import Qmeas\n",
    "\n",
    "n = 5\n",
    "circuit = Qcircuit.Qubit(n)\n",
    "Qgates.S(circuit, 1)\n",
    "Qgates.RX(circuit, 0, 0.5)\n",
    "Qgates.RY(circuit, 2, 0.522)\n",
    "Qgates.RZ(circuit, 3, 0.54)\n",
    "Qgates.RX(circuit, 0, 0.52332)\n",
    "print(circuit.amplitude)\n",
    "print(circuit.state)\n"
   ]
  },
  {
   "cell_type": "code",
   "execution_count": 4,
   "metadata": {},
   "outputs": [
    {
     "name": "stdout",
     "output_type": "stream",
     "text": [
      "[ 0.73950991-0.57393727j  0.        +0.j          0.        +0.j\n",
      "  0.        +0.j          0.19751762-0.1532944j   0.        +0.j\n",
      "  0.        +0.j          0.        +0.j          0.        +0.j\n",
      "  0.        +0.j          0.        +0.j          0.        +0.j\n",
      "  0.        +0.j          0.        +0.j          0.        +0.j\n",
      "  0.        +0.j         -0.03914249-0.05043453j  0.        +0.j\n",
      "  0.        +0.j          0.        +0.j         -0.14655025-0.18882788j\n",
      "  0.        +0.j          0.        +0.j          0.        +0.j\n",
      "  0.        +0.j          0.        +0.j          0.        +0.j\n",
      "  0.        +0.j          0.        +0.j          0.        +0.j\n",
      "  0.        +0.j          0.        +0.j        ]\n"
     ]
    }
   ],
   "source": [
    "from Qsun import Qcircuit\n",
    "from Qsun import Qgates\n",
    "from Qsun import Qmeas\n",
    "\n",
    "n = 5\n",
    "circuit = Qcircuit.Qubit(n)\n",
    "Qgates.S(circuit, 1)\n",
    "Qgates.RX(circuit, 0, 0.5)\n",
    "Qgates.RY(circuit, 2, 0.522)\n",
    "Qgates.CNOT(circuit, 0, 2)\n",
    "Qgates.RZ(circuit, 1, 1.32)\n",
    "print(circuit.amplitude)\n"
   ]
  },
  {
   "cell_type": "code",
   "execution_count": 6,
   "metadata": {},
   "outputs": [
    {
     "name": "stdout",
     "output_type": "stream",
     "text": [
      "[ 0.52291247-0.40583494j  0.        +0.j          0.13966605-0.10839551j\n",
      "  0.        +0.j          0.13352148+0.10362667j  0.        +0.j\n",
      "  0.0356626 +0.02767792j  0.        +0.j         -0.10362667-0.13352148j\n",
      "  0.        +0.j         -0.02767792-0.0356626j   0.        +0.j\n",
      " -0.40583494+0.52291247j  0.        +0.j         -0.10839551+0.13966605j\n",
      "  0.        +0.j        ]\n"
     ]
    }
   ],
   "source": [
    "from Qsun import Qcircuit\n",
    "from Qsun import Qgates\n",
    "from Qsun import Qmeas\n",
    "\n",
    "n = 4\n",
    "circuit = Qcircuit.Qubit(n)\n",
    "Qgates.H(circuit, 0)\n",
    "Qgates.CNOT(circuit, 0, 1)\n",
    "Qgates.RX(circuit, 0, 0.5)\n",
    "Qgates.S(circuit, 1)\n",
    "Qgates.RY(circuit, 2, 0.522)\n",
    "Qgates.RZ(circuit, 1, 1.32)\n",
    "print(circuit.amplitude)\n"
   ]
  }
 ],
 "metadata": {
  "kernelspec": {
   "display_name": "Python 3",
   "language": "python",
   "name": "python3"
  },
  "language_info": {
   "codemirror_mode": {
    "name": "ipython",
    "version": 3
   },
   "file_extension": ".py",
   "mimetype": "text/x-python",
   "name": "python",
   "nbconvert_exporter": "python",
   "pygments_lexer": "ipython3",
   "version": "3.10.11"
  }
 },
 "nbformat": 4,
 "nbformat_minor": 2
}
