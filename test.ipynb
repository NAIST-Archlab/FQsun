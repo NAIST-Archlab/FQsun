{
 "cells": [
  {
   "cell_type": "code",
   "execution_count": 18,
   "metadata": {},
   "outputs": [
    {
     "name": "stdout",
     "output_type": "stream",
     "text": [
      "State psi: \n",
      "(0.7071067811865475+0j)|00> + 0j|01> + 0j|10> + (0.7071067811865475+0j)|11>\n",
      "\n",
      "visualization:\n",
      "|Q_0> : H--o---M\n",
      "           |    \n",
      "|Q_1> : ---x---M\n",
      "                \n",
      "None\n"
     ]
    }
   ],
   "source": [
    "from Qsun import Qcircuit\n",
    "from Qsun import Qgates\n",
    "from Qsun import Qmeas\n",
    "\n",
    "n = 2\n",
    "circuit = Qcircuit.Qubit(n)\n",
    "Qgates.H(circuit, 0)\n",
    "Qgates.CNOT(circuit, 0, 1)\n",
    "\n",
    "print('State psi: ')\n",
    "print(circuit.print_state())\n",
    "print()\n",
    "\n",
    "# print('Measure: ')\n",
    "# print(Qmeas.measure_all(circuit, 10000))\n",
    "\n",
    "print('visualization:')\n",
    "print(circuit.visual_circuit())"
   ]
  },
  {
   "cell_type": "code",
   "execution_count": 19,
   "metadata": {},
   "outputs": [
    {
     "name": "stdout",
     "output_type": "stream",
     "text": [
      "State psi:  [0.70710678+0.j 0.        +0.j 0.        +0.j 0.70710678+0.j]\n",
      "        ┌───┐      ░ ┌─┐   \n",
      "   q_0: ┤ H ├──■───░─┤M├───\n",
      "        └───┘┌─┴─┐ ░ └╥┘┌─┐\n",
      "   q_1: ─────┤ X ├─░──╫─┤M├\n",
      "             └───┘ ░  ║ └╥┘\n",
      "meas: 2/══════════════╩══╩═\n",
      "                      0  1 \n"
     ]
    }
   ],
   "source": [
    "import qiskit\n",
    "import qiskit.quantum_info as qi\n",
    "from qiskit.primitives import Sampler\n",
    "qc = qiskit.QuantumCircuit(2)\n",
    "qc.h(0)\n",
    "qc.cx(0, 1)\n",
    "print(\"State psi: \", qi.Statevector.from_instruction(qc).data)\n",
    "qc.measure_all()\n",
    "print(qc.draw())\n",
    "# sampler = Sampler()\n",
    "# result = sampler.run(qc, shots = 10000).result().quasi_dists[0]\n",
    "# print(\"Measure: \", result)"
   ]
  }
 ],
 "metadata": {
  "kernelspec": {
   "display_name": "Python 3",
   "language": "python",
   "name": "python3"
  },
  "language_info": {
   "codemirror_mode": {
    "name": "ipython",
    "version": 3
   },
   "file_extension": ".py",
   "mimetype": "text/x-python",
   "name": "python",
   "nbconvert_exporter": "python",
   "pygments_lexer": "ipython3",
   "version": "3.10.11"
  }
 },
 "nbformat": 4,
 "nbformat_minor": 2
}
