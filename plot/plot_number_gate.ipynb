{
 "cells": [
  {
   "cell_type": "code",
   "execution_count": 3,
   "metadata": {},
   "outputs": [
    {
     "name": "stdout",
     "output_type": "stream",
     "text": [
      "(15, 10)\n"
     ]
    },
    {
     "data": {
      "image/png": "[encoded data removed]",
      "text/plain": [
       "<Figure size 640x480 with 2 Axes>"
      ]
     },
     "metadata": {},
     "output_type": "display_data"
    }
   ],
   "source": [
    "import numpy as np\n",
    "from mpl_toolkits.mplot3d import Axes3D\n",
    "import matplotlib.pyplot as plt\n",
    "import os\n",
    "\n",
    "num_qubits = range(3, 18)\n",
    "depths = range(1, 11)\n",
    "num_gatess = np.zeros((len(num_qubits), len(depths)))\n",
    "num_repeats = 2\n",
    "for depth in depths:\n",
    "    for times in range(1, num_repeats + 1):\n",
    "        num_gates = np.loadtxt(f'./gate/qrc/{times}/qrc_{depth}depth_NumGate.txt', dtype=int)\n",
    "        num_gatess[:, depth-1] += num_gates\n",
    "    num_gatess[:, depth-1] = num_gatess[:, depth-1] / num_repeats\n",
    "print(num_gatess.shape)\n",
    "\n",
    "\n",
    "X, Y = np.meshgrid(num_qubits, depths)\n",
    "# Plot the heatmap\n",
    "plt.imshow(num_gatess, cmap='hot', origin='lower', extent = [1, 10, 3, 17])\n",
    "plt.yticks(num_qubits)\n",
    "plt.xticks(depths)\n",
    "plt.xlabel('Depth')\n",
    "plt.ylabel('# Qubits')\n",
    "\n",
    "cbar = plt.colorbar()\n",
    "cbar.set_label('# Gate')  # Label for the colorbar\n",
    "plt.tight_layout()\n",
    "plt.savefig('./images/gate_qrc.svg')"
   ]
  },
  {
   "cell_type": "code",
   "execution_count": null,
   "metadata": {},
   "outputs": [],
   "source": [
    "import numpy as np\n",
    "from mpl_toolkits.mplot3d import Axes3D\n",
    "import matplotlib.pyplot as plt\n",
    "import os\n",
    "\n",
    "num_qubits = range(3, 18)\n",
    "depths = range(1, 11)\n",
    "num_gatess1 = np.zeros((len(num_qubits), len(depths)))\n",
    "num_gatess2 = np.zeros((len(num_qubits), len(depths)))\n",
    "num_repeats = 100\n",
    "gate_densitiess = np.zeros((len(num_qubits), len(depths)), dtype=float)\n",
    "for depth in depths:\n",
    "    for times in range(1, num_repeats + 1):\n",
    "        num_gates1 = np.loadtxt(f'./gate/qrc/{times}/qrc_{depth}depth_NumGate1.txt', dtype=int)\n",
    "        num_gates2 = np.loadtxt(f'./gate/qrc/{times}/qrc_{depth}depth_NumGate2.txt', dtype=int)\n",
    "        num_gatess1[:, depth-1] += num_gates1\n",
    "        num_gatess2[:, depth-1] += num_gates2\n",
    "        \n",
    "    num_gatess1[:, depth-1] = num_gatess1[:, depth-1] / num_repeats\n",
    "    num_gatess2[:, depth-1] = num_gatess2[:, depth-1] / num_repeats\n",
    "print(num_gatess1.shape)\n",
    "for qubit in num_qubits:\n",
    "    for depth in depths:\n",
    "        print(qubit*depth)\n",
    "        print(num_gatess1[qubit-3, depth-1] + 2*num_gatess2[qubit-3, depth-1])\n",
    "        gate_densitiess[qubit-3, depth-1] = (num_gatess1[qubit-3, depth-1] + 2*num_gatess2[qubit-3, depth-1])/(qubit*depth)\n",
    "\n",
    "    \n",
    "X, Y = np.meshgrid(num_qubits, depths)\n",
    "# Plot the heatmap\n",
    "plt.imshow(gate_densitiess, cmap='hot', origin='lower', extent = [1, 10, 3, 17])\n",
    "plt.yticks(num_qubits)\n",
    "plt.xticks(depths)\n",
    "plt.xlabel('Depth')\n",
    "plt.ylabel('# Qubits')\n",
    "\n",
    "cbar = plt.colorbar()\n",
    "cbar.set_label('# Gate')  # Label for the colorbar\n",
    "plt.tight_layout()\n",
    "# plt.savefig('./images/gate_qrc.svg')"
   ]
  },
  {
   "cell_type": "code",
   "execution_count": 18,
   "metadata": {},
   "outputs": [
    {
     "name": "stdout",
     "output_type": "stream",
     "text": [
      "The autoreload extension is already loaded. To reload it, use:\n",
      "  %reload_ext autoreload\n",
      "10.0\n",
      "18.5\n",
      "33.2\n",
      "59.0\n",
      "104.85714285714286\n",
      "187.25\n",
      "336.6666666666667\n"
     ]
    }
   ],
   "source": [
    "import qiskit\n",
    "import qiskit.quantum_info\n",
    "import numpy as np\n",
    "import time\n",
    "%load_ext autoreload\n",
    "%autoreload 2\n",
    "def transpiled_circuit(qc):\n",
    "    qc = qiskit.transpile(qc, optimization_level = 2)\n",
    "    return qc\n",
    "\n",
    "def transpiled_circuit_clifford(qc):\n",
    "    qc = qiskit.transpile(qc, \n",
    "        basis_gates=['h', 'cx', 's',\n",
    "                    'rx','ry','rz'])\n",
    "    return qc\n",
    "\n",
    "def haar(num_qubits: int):\n",
    "    \"\"\"\n",
    "    to generate random matrix for Haar measure\n",
    "    see https://arxiv.org/pdf/math-ph/0609050.pdf\n",
    "    \"\"\"\n",
    "    d = 2**num_qubits\n",
    "    array = (np.random.randn(d,d) + 1j*np.random.randn(d,d))/np.sqrt(2.0)\n",
    "    ortho,upper = np.linalg.qr(array)\n",
    "    diag = np.diagonal(upper)\n",
    "    temp = diag/np.absolute(diag)\n",
    "    result = np.multiply(ortho,temp,ortho)\n",
    "    basic_state = np.zeros(d)\n",
    "    basic_state[0] = 1\n",
    "    return result @ basic_state\n",
    "\n",
    "for num_qubits in range(3, 10):\n",
    "    state = haar(num_qubits)\n",
    "    qc = qiskit.QuantumCircuit(num_qubits)\n",
    "    qc.prepare_state(state, list(range(0, num_qubits)))\n",
    "    qc_transpiled = transpiled_circuit_clifford(qc)\n",
    "    ops = qc_transpiled.count_ops()\n",
    "    if 'cx' in ops:\n",
    "        num_2q_gates = ops['cx']\n",
    "    else:\n",
    "        num_2q_gates = 0\n",
    "\n",
    "    num_1q_gates = sum(ops[key] for key in ops if key != 'cx')\n",
    "    print((num_1q_gates + 2*num_2q_gates)/(qc.depth() * num_qubits))\n",
    "    "
   ]
  }
 ],
 "metadata": {
  "kernelspec": {
   "display_name": "Python 3",
   "language": "python",
   "name": "python3"
  },
  "language_info": {
   "codemirror_mode": {
    "name": "ipython",
    "version": 3
   },
   "file_extension": ".py",
   "mimetype": "text/x-python",
   "name": "python",
   "nbconvert_exporter": "python",
   "pygments_lexer": "ipython3",
   "version": "3.10.11"
  }
 },
 "nbformat": 4,
 "nbformat_minor": 2
}
