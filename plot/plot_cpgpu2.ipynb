{
 "cells": [
  {
   "cell_type": "code",
   "execution_count": 2,
   "metadata": {},
   "outputs": [
    {
     "name": "stdout",
     "output_type": "stream",
     "text": [
      "Keys: <KeysViewHDF5 ['qiskit']>\n",
      "[1.69170250e-01 2.83493347e-01 4.38843031e-01 6.02909222e-01\n",
      " 8.07337883e-01 1.09186973e+00 1.78695662e+00 3.19285614e+00\n",
      " 9.76375345e+00 4.05306919e+01 1.79117781e+02 8.34601524e+02\n",
      " 3.89819359e+03 1.79038189e+04]\n"
     ]
    }
   ],
   "source": [
    "import h5py\n",
    "\n",
    "# Open the HDF5 file\n",
    "with h5py.File('../cpgpu/qft/data_qft_qiskit_singlethread_dp.h5', 'r') as h5_file:\n",
    "    # List all groups\n",
    "    print(\"Keys: %s\" % h5_file.keys())\n",
    "    # Get the data\n",
    "    data = h5_file['qiskit'][:]\n",
    "    print(data)\n",
    "\n",
    "# https://arxiv.org/pdf/2401.09076\n",
    "# QFT: data cho 6,8,10,..., 32"
   ]
  },
  {
   "cell_type": "code",
   "execution_count": 4,
   "metadata": {},
   "outputs": [
    {
     "name": "stdout",
     "output_type": "stream",
     "text": [
      "Keys: <KeysViewHDF5 ['qiskit']>\n",
      "[1.95043617e+00 2.26384986e+00 2.77123264e+00 3.51968174e+00\n",
      " 3.34631781e+00 6.52865138e+00 2.00593665e+01 8.86374074e+01\n",
      " 3.59521976e+02 1.67681781e+03 7.17516918e+03]\n"
     ]
    }
   ],
   "source": [
    "import h5py\n",
    "\n",
    "# Open the HDF5 file\n",
    "with h5py.File('./cpgpu/qrc/data_rqc_qiskit_singlethread_dp.h5', 'r') as h5_file:\n",
    "    # List all groups\n",
    "    print(\"Keys: %s\" % h5_file.keys())\n",
    "    # Get the data\n",
    "    data = h5_file['qiskit'][:]\n",
    "    print(data)\n",
    "    \n",
    " # https://arxiv.org/pdf/2401.09076\n",
    "# RQC: data cho 12,14,..., 32"
   ]
  }
 ],
 "metadata": {
  "kernelspec": {
   "display_name": "Python 3",
   "language": "python",
   "name": "python3"
  },
  "language_info": {
   "codemirror_mode": {
    "name": "ipython",
    "version": 3
   },
   "file_extension": ".py",
   "mimetype": "text/x-python",
   "name": "python",
   "nbconvert_exporter": "python",
   "pygments_lexer": "ipython3",
   "version": "3.10.11"
  }
 },
 "nbformat": 4,
 "nbformat_minor": 2
}
