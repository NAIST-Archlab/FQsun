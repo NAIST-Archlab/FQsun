{
 "cells": [
  {
   "cell_type": "code",
   "execution_count": 1,
   "metadata": {},
   "outputs": [],
   "source": [
    "import qiskit\n",
    "import qiskit.quantum_info as qi\n",
    "import numpy as np\n",
    "import matplotlib.pyplot as plt\n",
    "def generate_state(num_qubits):\n",
    "    matrix = qiskit.quantum_info.random_unitary(2**num_qubits).data\n",
    "    unitary_matrix = qiskit.quantum_info.Operator(matrix)\n",
    "    qc = qiskit.QuantumCircuit(num_qubits)\n",
    "    qc.unitary(unitary_matrix, list(range(0, num_qubits)), label='InputUnita')\n",
    "    return qi.Statevector.from_instruction(qc).data"
   ]
  },
  {
   "cell_type": "markdown",
   "metadata": {},
   "source": [
    "base = complex128, 15-17 cstp"
   ]
  },
  {
   "cell_type": "code",
   "execution_count": 2,
   "metadata": {},
   "outputs": [
    {
     "name": "stdout",
     "output_type": "stream",
     "text": [
      "1\n",
      "2\n",
      "3\n",
      "4\n",
      "5\n",
      "6\n",
      "7\n",
      "8\n",
      "9\n",
      "10\n",
      "11\n",
      "12\n",
      "13\n",
      "14\n"
     ]
    }
   ],
   "source": [
    "num_qubits = 15\n",
    "num_decimals = 15\n",
    "\n",
    "fidelitiess = np.zeros((num_qubits, num_decimals))\n",
    "for num_qubit in range(1, num_qubits):\n",
    "    print(num_qubit)        \n",
    "    for num_decimal in range(0, num_decimals):\n",
    "        fidelities = []\n",
    "        for num_sample in range(1, 3):\n",
    "            state = generate_state(num_qubit)\n",
    "            rounded_state = np.round(state, num_decimal)\n",
    "            fidelity = np.real(np.conjugate(np.transpose(rounded_state)) @ state)\n",
    "            fidelities.append(fidelity)\n",
    "        fidelitiess[num_qubit, num_decimal] = np.mean(fidelities)\n",
    "        \n",
    "\n"
   ]
  },
  {
   "cell_type": "code",
   "execution_count": 1,
   "metadata": {},
   "outputs": [
    {
     "ename": "NameError",
     "evalue": "name 'num_qubits' is not defined",
     "output_type": "error",
     "traceback": [
      "\u001b[1;31m---------------------------------------------------------------------------\u001b[0m",
      "\u001b[1;31mNameError\u001b[0m                                 Traceback (most recent call last)",
      "Cell \u001b[1;32mIn[1], line 1\u001b[0m\n\u001b[1;32m----> 1\u001b[0m \u001b[38;5;28;01mfor\u001b[39;00m num_qubit \u001b[38;5;129;01min\u001b[39;00m \u001b[38;5;28mrange\u001b[39m(\u001b[38;5;241m1\u001b[39m, \u001b[43mnum_qubits\u001b[49m):\n\u001b[0;32m      2\u001b[0m     \u001b[38;5;28mprint\u001b[39m(fidelitiess[num_qubit, :]\u001b[38;5;241m.\u001b[39mshape)\n\u001b[0;32m      3\u001b[0m     plt\u001b[38;5;241m.\u001b[39mplot(\u001b[38;5;28mrange\u001b[39m(\u001b[38;5;241m0\u001b[39m, num_decimals ), fidelitiess[num_qubit, :], label\u001b[38;5;241m=\u001b[39m\u001b[38;5;124mf\u001b[39m\u001b[38;5;124m'\u001b[39m\u001b[38;5;132;01m{\u001b[39;00mnum_qubit\u001b[38;5;132;01m}\u001b[39;00m\u001b[38;5;124m qubits\u001b[39m\u001b[38;5;124m'\u001b[39m)\n",
      "\u001b[1;31mNameError\u001b[0m: name 'num_qubits' is not defined"
     ]
    }
   ],
   "source": [
    "for num_qubit in range(1, num_qubits):\n",
    "    print(fidelitiess[num_qubit, :].shape)\n",
    "    plt.plot(range(0, num_decimals ), fidelitiess[num_qubit, :], label=f'{num_qubit} qubits')\n",
    "plt.xlabel('Number of decimals')\n",
    "plt.ylabel('Fidelity')\n",
    "plt.ylim(0.9, 1.05)\n",
    "plt.legend()\n",
    "plt.show()"
   ]
  }
 ],
 "metadata": {
  "kernelspec": {
   "display_name": "Python 3",
   "language": "python",
   "name": "python3"
  },
  "language_info": {
   "codemirror_mode": {
    "name": "ipython",
    "version": 3
   },
   "file_extension": ".py",
   "mimetype": "text/x-python",
   "name": "python",
   "nbconvert_exporter": "python",
   "pygments_lexer": "ipython3",
   "version": "3.9.6"
  }
 },
 "nbformat": 4,
 "nbformat_minor": 2
}
