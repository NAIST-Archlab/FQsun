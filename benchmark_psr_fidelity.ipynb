{
 "cells": [
  {
   "cell_type": "code",
   "execution_count": 8,
   "metadata": {},
   "outputs": [
    {
     "name": "stdout",
     "output_type": "stream",
     "text": [
      "The autoreload extension is already loaded. To reload it, use:\n",
      "  %reload_ext autoreload\n",
      "FP32\n"
     ]
    }
   ],
   "source": [
    "import qiskit\n",
    "import numpy as np\n",
    "import time\n",
    "from problem import psr\n",
    "import os, utilities\n",
    "from qoop.core import metric\n",
    "\n",
    "%load_ext autoreload\n",
    "%autoreload\n",
    "types = ['FP32', 'FP16', 'FX32', 'FX24', 'FX16']\n",
    "num_qubits = 17\n",
    "for datatype in types:\n",
    "    print(datatype)\n",
    "    fidelities = []\n",
    "    for num_qubit in range(3, num_qubits + 1):\n",
    "        # from sòftware simulator\n",
    "        state = psr.circuit_Qsun(np.ones(3*num_qubit), num_qubit).amplitude # return amplitudes\n",
    "        state = np.expand_dims(state, axis=1)\n",
    "        sigma = state @ np.transpose(np.conjugate(state))\n",
    "        # from FPGA emulator\n",
    "        state_psr = utilities.read_complex_numbers(f'./data/psr/FPGA_{datatype}/psr_{datatype}_Output_{num_qubit}_qubit.txt')\n",
    "        state_psr = np.expand_dims(state_psr, axis=1)\n",
    "        rho = state_psr @ np.transpose(np.conjugate(state_psr))\n",
    "        fidelities.append(metric.compilation_trace_fidelity(rho, sigma))\n",
    "        np.savetxt(f'./fidelity/psr/psr_{datatype}_Fidelity.txt', fidelities)"
   ]
  }
 ],
 "metadata": {
  "kernelspec": {
   "display_name": "Python 3",
   "language": "python",
   "name": "python3"
  },
  "language_info": {
   "codemirror_mode": {
    "name": "ipython",
    "version": 3
   },
   "file_extension": ".py",
   "mimetype": "text/x-python",
   "name": "python",
   "nbconvert_exporter": "python",
   "pygments_lexer": "ipython3",
   "version": "3.10.11"
  }
 },
 "nbformat": 4,
 "nbformat_minor": 2
}
