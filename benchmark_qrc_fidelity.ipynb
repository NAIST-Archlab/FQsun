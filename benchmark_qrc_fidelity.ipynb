{
 "cells": [
  {
   "cell_type": "code",
   "execution_count": 7,
   "metadata": {},
   "outputs": [
    {
     "name": "stdout",
     "output_type": "stream",
     "text": [
      "The autoreload extension is already loaded. To reload it, use:\n",
      "  %reload_ext autoreload\n",
      "FP32\n"
     ]
    }
   ],
   "source": [
    "import qiskit\n",
    "import numpy as np\n",
    "import time\n",
    "from problem import psr\n",
    "import os, utilities\n",
    "from qoop.core import metric\n",
    "\n",
    "%load_ext autoreload\n",
    "%autoreload\n",
    "# types = ['FP32', 'FX32', 'FX24']\n",
    "types = ['FP32']\n",
    "num_qubits = 5\n",
    "for datatype in types:\n",
    "    print(datatype)\n",
    "    for times in range(1, 2):\n",
    "        for depth in range(1,11):\n",
    "            fidelities = []\n",
    "            for num_qubit in range(3, num_qubits + 1):\n",
    "                # from sòftware simulator\n",
    "                origin = np.loadtxt(f'./data/qrc/cpu/{times}/{num_qubit}_{depth}_amplitude.txt', dtype = complex)\n",
    "                # from FPGA emulator\n",
    "                reconstruct = utilities.read_complex_numbers(f'./data/qrc/FPGA/QRC/{datatype}/Output/{times}/{num_qubit}_{depth}_amplitude.txt')\n",
    "                fidelities.append(utilities.fidelity(origin, reconstruct))\n",
    "                save_path = f'./fidelity/qrc/{datatype}/{times}/qrc_{num_qubit}_{depth}_Fidelity.txt'\n",
    "                if not os.path.exists(f'./fidelity/qrc/{datatype}/{times}'):\n",
    "                    os.makedirs(f'./fidelity/qrc/{datatype}/{times}')\n",
    "            np.savetxt(save_path, fidelities)"
   ]
  },
  {
   "cell_type": "code",
   "execution_count": null,
   "metadata": {},
   "outputs": [],
   "source": []
  }
 ],
 "metadata": {
  "kernelspec": {
   "display_name": "Python 3",
   "language": "python",
   "name": "python3"
  },
  "language_info": {
   "codemirror_mode": {
    "name": "ipython",
    "version": 3
   },
   "file_extension": ".py",
   "mimetype": "text/x-python",
   "name": "python",
   "nbconvert_exporter": "python",
   "pygments_lexer": "ipython3",
   "version": "3.10.11"
  }
 },
 "nbformat": 4,
 "nbformat_minor": 2
}
