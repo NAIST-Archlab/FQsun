{
 "cells": [
  {
   "cell_type": "code",
   "execution_count": 8,
   "metadata": {},
   "outputs": [
    {
     "name": "stdout",
     "output_type": "stream",
     "text": [
      "The autoreload extension is already loaded. To reload it, use:\n",
      "  %reload_ext autoreload\n"
     ]
    }
   ],
   "source": [
    "import qiskit\n",
    "import numpy as np\n",
    "%load_ext autoreload\n",
    "%autoreload\n",
    "num_qubits = 5\n",
    "num_layers = 5\n",
    "orders = [[] for i in range(num_qubits)]\n",
    "from qimax.stabilizer import StabilizerGenerator\n",
    "stb = StabilizerGenerator(num_qubits)\n",
    "\n",
    "qc = qiskit.QuantumCircuit(num_qubits)\n",
    "qcs = []\n",
    "for _ in range(num_layers):\n",
    "    for i in range(num_qubits - 1):\n",
    "        stb.cx([i, i + 1])\n",
    "        qc.cx(i, i + 1)\n",
    "        qcs.append(qc.copy())\n",
    "        for ii in range(num_qubits):\n",
    "            orders[ii].append(len(stb.stabilizers[ii].words.items()))\n",
    "    stb.cx([num_qubits - 1, 0])\n",
    "    qc.cx(num_qubits - 1, 0)\n",
    "    qcs.append(qc.copy())\n",
    "    for ii in range(num_qubits):\n",
    "        orders[ii].append(len(stb.stabilizers[ii].words.items()))\n",
    "    for i in range(num_qubits):\n",
    "        phase = np.random.rand()\n",
    "        stb.rx(phase, i)\n",
    "        qc.rx(phase, i)\n",
    "        qcs.append(qc.copy())\n",
    "        for ii in range(num_qubits):\n",
    "            orders[ii].append(len(stb.stabilizers[ii].words.items()))\n",
    "        phase = np.random.rand()\n",
    "        stb.ry(phase, i)\n",
    "        qc.ry(phase, i)\n",
    "        qcs.append(qc.copy())        \n",
    "        for ii in range(num_qubits):\n",
    "            orders[ii].append(len(stb.stabilizers[ii].words.items()))\n",
    "        phase = np.random.rand()\n",
    "        stb.rz(phase, i)\n",
    "        qc.rz(phase, i)\n",
    "        qcs.append(qc.copy())     \n",
    "        for ii in range(num_qubits):\n",
    "            orders[ii].append(len(stb.stabilizers[ii].words.items()))\n"
   ]
  },
  {
   "cell_type": "code",
   "execution_count": 12,
   "metadata": {},
   "outputs": [
    {
     "name": "stdout",
     "output_type": "stream",
     "text": [
      "                                            ┌───┐┌─────────────┐┌─────────────┐»\n",
      "q_0: ──■────────────────────────────────────┤ X ├┤ Rx(0.86001) ├┤ Ry(0.66294) ├»\n",
      "     ┌─┴─┐     ┌────────────┐ ┌────────────┐└─┬─┘├─────────────┤└─────────────┘»\n",
      "q_1: ┤ X ├──■──┤ Rx(0.5008) ├─┤ Ry(0.4355) ├──┼──┤ Rz(0.13978) ├───────────────»\n",
      "     └───┘┌─┴─┐└────────────┘┌┴────────────┤  │  ├─────────────┤┌─────────────┐»\n",
      "q_2: ─────┤ X ├──────■───────┤ Rx(0.67243) ├──┼──┤ Ry(0.34546) ├┤ Rz(0.89652) ├»\n",
      "          └───┘    ┌─┴─┐     └─────────────┘  │  ├─────────────┤├─────────────┤»\n",
      "q_3: ──────────────┤ X ├────────────■─────────┼──┤ Rx(0.10193) ├┤ Ry(0.34109) ├»\n",
      "                   └───┘          ┌─┴─┐       │  ├─────────────┤└─────────────┘»\n",
      "q_4: ─────────────────────────────┤ X ├───────■──┤ Rx(0.93261) ├───────────────»\n",
      "                                  └───┘          └─────────────┘               »\n",
      "«     ┌─────────────┐\n",
      "«q_0: ┤ Rz(0.39188) ├\n",
      "«     └─────────────┘\n",
      "«q_1: ───────────────\n",
      "«                    \n",
      "«q_2: ───────────────\n",
      "«     ┌─────────────┐\n",
      "«q_3: ┤ Rz(0.61998) ├\n",
      "«     └─────────────┘\n",
      "«q_4: ───────────────\n",
      "«                    \n"
     ]
    }
   ],
   "source": [
    "print(qcs[17])"
   ]
  }
 ],
 "metadata": {
  "kernelspec": {
   "display_name": "Python 3",
   "language": "python",
   "name": "python3"
  },
  "language_info": {
   "codemirror_mode": {
    "name": "ipython",
    "version": 3
   },
   "file_extension": ".py",
   "mimetype": "text/x-python",
   "name": "python",
   "nbconvert_exporter": "python",
   "pygments_lexer": "ipython3",
   "version": "3.10.11"
  }
 },
 "nbformat": 4,
 "nbformat_minor": 2
}
