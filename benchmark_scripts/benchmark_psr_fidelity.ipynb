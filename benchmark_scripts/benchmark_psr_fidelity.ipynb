{
 "cells": [
  {
   "cell_type": "code",
   "execution_count": 1,
   "metadata": {},
   "outputs": [
    {
     "name": "stdout",
     "output_type": "stream",
     "text": [
      "FP32\n",
      "[0.9999988298941852]\n",
      "[0.9999988298941852, 0.9999981449656988]\n",
      "[0.9999988298941852, 0.9999981449656988, 1.0000009484066184]\n",
      "FP16\n",
      "[0.9970197144195133]\n",
      "[0.9970197144195133, 0.9959444187034981]\n",
      "[0.9970197144195133, 0.9959444187034981, 0.9943375875722457]\n",
      "FX32\n",
      "[0.9999988298941852]\n",
      "[0.9999988298941852, 0.9999981449656988]\n",
      "[0.9999988298941852, 0.9999981449656988, 1.0000009484066184]\n",
      "FX24\n",
      "[1.0000008668010607]\n",
      "[1.0000008668010607, 1.0000006947627014]\n",
      "[1.0000008668010607, 1.0000006947627014, 0.9999973059557558]\n",
      "FX16\n",
      "[1.0000790621497646]\n",
      "[1.0000790621497646, 0.999710093734017]\n",
      "[1.0000790621497646, 0.999710093734017, 0.9987297881966307]\n"
     ]
    }
   ],
   "source": [
    "import qiskit\n",
    "import numpy as np\n",
    "import time\n",
    "from problem import psr\n",
    "import os, utilities\n",
    "from qoop.core import metric\n",
    "\n",
    "%load_ext autoreload\n",
    "%autoreload\n",
    "types = ['FP32', 'FP16', 'FX32', 'FX24', 'FX16']\n",
    "num_qubits = 17\n",
    "for datatype in types:\n",
    "    print(datatype)\n",
    "    fidelities = []\n",
    "    for num_qubit in range(3, num_qubits + 1):\n",
    "        # from sòftware simulator\n",
    "        state = psr.circuit_Qsun(np.ones(3*num_qubit), num_qubit).amplitude # return amplitudes\n",
    "        # from FPGA emulator\n",
    "        state_psr = utilities.read_complex_numbers(f'./data/psr/FPGA_{datatype}/psr_{datatype}_Output_{num_qubit}_qubit.txt')\n",
    "        fidelities.append(utilities.fidelity(state, state_psr))\n",
    "        np.savetxt(f'./fidelity/psr/psr_{datatype}_Fidelity.txt', fidelities)"
   ]
  },
  {
   "cell_type": "code",
   "execution_count": 2,
   "metadata": {},
   "outputs": [
    {
     "name": "stdout",
     "output_type": "stream",
     "text": [
      "The autoreload extension is already loaded. To reload it, use:\n",
      "  %reload_ext autoreload\n",
      "FP32\n",
      "FP16\n",
      "FX32\n",
      "FX24\n",
      "FX16\n"
     ]
    }
   ],
   "source": [
    "import qiskit\n",
    "import numpy as np\n",
    "import time\n",
    "from problem import psr\n",
    "import os, utilities\n",
    "from qoop.core import metric\n",
    "\n",
    "%load_ext autoreload\n",
    "%autoreload\n",
    "types = ['FP32', 'FP16', 'FX32', 'FX24', 'FX16']\n",
    "num_qubits = 17\n",
    "for datatype in types:\n",
    "    print(datatype)\n",
    "    mses = []\n",
    "    for num_qubit in range(3, num_qubits + 1):\n",
    "        # from sòftware simulator\n",
    "        state = psr.circuit_Qsun(np.ones(3*num_qubit), num_qubit).amplitude # return amplitudes\n",
    "        # from FPGA emulator\n",
    "        state_psr = utilities.read_complex_numbers(f'./data/psr/FPGA_{datatype}/PSR_{datatype}_Output_{num_qubit}_qubit.txt')\n",
    "\n",
    "        mses.append(np.sum(np.abs(state - state_psr)**2)/len(state))\n",
    "        np.savetxt(f'./mse/psr_{datatype}_MSE.txt', mses)"
   ]
  }
 ],
 "metadata": {
  "kernelspec": {
   "display_name": "Python 3",
   "language": "python",
   "name": "python3"
  },
  "language_info": {
   "codemirror_mode": {
    "name": "ipython",
    "version": 3
   },
   "file_extension": ".py",
   "mimetype": "text/x-python",
   "name": "python",
   "nbconvert_exporter": "python",
   "pygments_lexer": "ipython3",
   "version": "3.10.11"
  }
 },
 "nbformat": 4,
 "nbformat_minor": 2
}
