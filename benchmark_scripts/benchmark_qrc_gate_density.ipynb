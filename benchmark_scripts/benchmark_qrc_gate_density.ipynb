{
 "cells": [
  {
   "cell_type": "code",
   "execution_count": 10,
   "metadata": {},
   "outputs": [],
   "source": [
    "import numpy as np\n",
    "from mpl_toolkits.mplot3d import Axes3D\n",
    "import matplotlib.pyplot as plt\n",
    "import os\n",
    "\n",
    "num_qubits = 17\n",
    "for times in range(1, 101):\n",
    "    for depth in range(1,11):\n",
    "        num_gates1 = []\n",
    "        num_gates2 = []\n",
    "        for num_qubit in range(3, num_qubits + 1):\n",
    "            # from software simulator\n",
    "            with open(f'./data/qrc/cpu/{times}/{num_qubit}_{depth}.txt', 'r') as file:\n",
    "                num_gate1 = 0\n",
    "                num_gate2 = 0\n",
    "                for line in file:\n",
    "                    gate, qubits, angle = eval(line)\n",
    "                    # Process the gate information here\n",
    "                    if gate == 'CNOT':\n",
    "                        num_gate2 += 1\n",
    "                    else:\n",
    "                        num_gate1 += 1\n",
    "                    #print(line)\n",
    "                num_gates1.append(num_gate1)\n",
    "                num_gates2.append(num_gate2)\n",
    "        for i in [1,2]:\n",
    "            save_path = f'./gate/qrc/{times}/qrc_{depth}depth_NumGate{i}.txt'\n",
    "            if not os.path.exists(f'./gate/qrc/{times}'):\n",
    "                os.makedirs(f'./gate/qrc/{times}')\n",
    "            if i == 1:\n",
    "                np.savetxt(save_path, num_gates1, fmt='%d')\n",
    "            else:\n",
    "                np.savetxt(save_path, num_gates2, fmt='%d')"
   ]
  }
 ],
 "metadata": {
  "kernelspec": {
   "display_name": "Python 3",
   "language": "python",
   "name": "python3"
  },
  "language_info": {
   "codemirror_mode": {
    "name": "ipython",
    "version": 3
   },
   "file_extension": ".py",
   "mimetype": "text/x-python",
   "name": "python",
   "nbconvert_exporter": "python",
   "pygments_lexer": "ipython3",
   "version": "3.9.6"
  }
 },
 "nbformat": 4,
 "nbformat_minor": 2
}
