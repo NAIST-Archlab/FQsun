{
 "cells": [
  {
   "cell_type": "code",
   "execution_count": 3,
   "metadata": {},
   "outputs": [
    {
     "name": "stdout",
     "output_type": "stream",
     "text": [
      "The autoreload extension is already loaded. To reload it, use:\n",
      "  %reload_ext autoreload\n"
     ]
    }
   ],
   "source": [
    "\n",
    "%load_ext autoreload\n",
    "%autoreload"
   ]
  },
  {
   "cell_type": "code",
   "execution_count": 9,
   "metadata": {},
   "outputs": [
    {
     "name": "stdout",
     "output_type": "stream",
     "text": [
      "FP32\n"
     ]
    },
    {
     "ename": "KeyboardInterrupt",
     "evalue": "",
     "output_type": "error",
     "traceback": [
      "\u001b[1;31m---------------------------------------------------------------------------\u001b[0m",
      "\u001b[1;31mKeyboardInterrupt\u001b[0m                         Traceback (most recent call last)",
      "Cell \u001b[1;32mIn[9], line 22\u001b[0m\n\u001b[0;32m     20\u001b[0m state_qft \u001b[38;5;241m=\u001b[39m np\u001b[38;5;241m.\u001b[39mexpand_dims(state_qft, axis\u001b[38;5;241m=\u001b[39m\u001b[38;5;241m1\u001b[39m)\n\u001b[0;32m     21\u001b[0m rho \u001b[38;5;241m=\u001b[39m state_qft \u001b[38;5;241m@\u001b[39m np\u001b[38;5;241m.\u001b[39mtranspose(np\u001b[38;5;241m.\u001b[39mconjugate(state_qft))\n\u001b[1;32m---> 22\u001b[0m fidelities\u001b[38;5;241m.\u001b[39mappend(\u001b[43mmetric\u001b[49m\u001b[38;5;241;43m.\u001b[39;49m\u001b[43mcompilation_trace_fidelity\u001b[49m\u001b[43m(\u001b[49m\u001b[43mrho\u001b[49m\u001b[43m,\u001b[49m\u001b[43m \u001b[49m\u001b[43msigma\u001b[49m\u001b[43m)\u001b[49m)\n\u001b[0;32m     23\u001b[0m np\u001b[38;5;241m.\u001b[39msavetxt(\u001b[38;5;124mf\u001b[39m\u001b[38;5;124m'\u001b[39m\u001b[38;5;124m./fidelity/qft/psr_\u001b[39m\u001b[38;5;132;01m{\u001b[39;00mdatatype\u001b[38;5;132;01m}\u001b[39;00m\u001b[38;5;124m_Fidelity.txt\u001b[39m\u001b[38;5;124m'\u001b[39m, fidelities)\n",
      "File \u001b[1;32mc:\\Users\\Public\\Documents\\Github\\FQsun\\qoop\\core\\metric.py:126\u001b[0m, in \u001b[0;36mcompilation_trace_fidelity\u001b[1;34m(rho, sigma)\u001b[0m\n\u001b[0;32m    122\u001b[0m rho \u001b[38;5;241m=\u001b[39m rho\u001b[38;5;241m.\u001b[39mdata\n\u001b[0;32m    123\u001b[0m sigma \u001b[38;5;241m=\u001b[39m sigma\u001b[38;5;241m.\u001b[39mdata\n\u001b[0;32m    124\u001b[0m \u001b[38;5;28;01mreturn\u001b[39;00m np\u001b[38;5;241m.\u001b[39mreal(\n\u001b[0;32m    125\u001b[0m     np\u001b[38;5;241m.\u001b[39mtrace(\n\u001b[1;32m--> 126\u001b[0m         scipy\u001b[38;5;241m.\u001b[39mlinalg\u001b[38;5;241m.\u001b[39msqrtm((\u001b[43mscipy\u001b[49m\u001b[38;5;241;43m.\u001b[39;49m\u001b[43mlinalg\u001b[49m\u001b[38;5;241;43m.\u001b[39;49m\u001b[43msqrtm\u001b[49m\u001b[43m(\u001b[49m\u001b[43mrho\u001b[49m\u001b[43m)\u001b[49m) \u001b[38;5;241m@\u001b[39m (rho))\n\u001b[0;32m    127\u001b[0m         \u001b[38;5;241m@\u001b[39m (scipy\u001b[38;5;241m.\u001b[39mlinalg\u001b[38;5;241m.\u001b[39msqrtm(sigma))\n\u001b[0;32m    128\u001b[0m     )\n\u001b[0;32m    129\u001b[0m )\n",
      "File \u001b[1;32m~\\AppData\\Local\\Packages\\PythonSoftwareFoundation.Python.3.10_qbz5n2kfra8p0\\LocalCache\\local-packages\\Python310\\site-packages\\scipy\\linalg\\_matfuncs_sqrtm.py:185\u001b[0m, in \u001b[0;36msqrtm\u001b[1;34m(A, disp, blocksize)\u001b[0m\n\u001b[0;32m    183\u001b[0m failflag \u001b[38;5;241m=\u001b[39m \u001b[38;5;28;01mFalse\u001b[39;00m\n\u001b[0;32m    184\u001b[0m \u001b[38;5;28;01mtry\u001b[39;00m:\n\u001b[1;32m--> 185\u001b[0m     R \u001b[38;5;241m=\u001b[39m \u001b[43m_sqrtm_triu\u001b[49m\u001b[43m(\u001b[49m\u001b[43mT\u001b[49m\u001b[43m,\u001b[49m\u001b[43m \u001b[49m\u001b[43mblocksize\u001b[49m\u001b[38;5;241;43m=\u001b[39;49m\u001b[43mblocksize\u001b[49m\u001b[43m)\u001b[49m\n\u001b[0;32m    186\u001b[0m     ZH \u001b[38;5;241m=\u001b[39m np\u001b[38;5;241m.\u001b[39mconjugate(Z)\u001b[38;5;241m.\u001b[39mT\n\u001b[0;32m    187\u001b[0m     X \u001b[38;5;241m=\u001b[39m Z\u001b[38;5;241m.\u001b[39mdot(R)\u001b[38;5;241m.\u001b[39mdot(ZH)\n",
      "File \u001b[1;32m~\\AppData\\Local\\Packages\\PythonSoftwareFoundation.Python.3.10_qbz5n2kfra8p0\\LocalCache\\local-packages\\Python310\\site-packages\\scipy\\linalg\\_matfuncs_sqrtm.py:99\u001b[0m, in \u001b[0;36m_sqrtm_triu\u001b[1;34m(T, blocksize)\u001b[0m\n\u001b[0;32m     97\u001b[0m S \u001b[38;5;241m=\u001b[39m T[istart:istop, jstart:jstop]\n\u001b[0;32m     98\u001b[0m \u001b[38;5;28;01mif\u001b[39;00m j \u001b[38;5;241m-\u001b[39m i \u001b[38;5;241m>\u001b[39m \u001b[38;5;241m1\u001b[39m:\n\u001b[1;32m---> 99\u001b[0m     S \u001b[38;5;241m=\u001b[39m S \u001b[38;5;241m-\u001b[39m \u001b[43mR\u001b[49m\u001b[43m[\u001b[49m\u001b[43mistart\u001b[49m\u001b[43m:\u001b[49m\u001b[43mistop\u001b[49m\u001b[43m,\u001b[49m\u001b[43m \u001b[49m\u001b[43mistop\u001b[49m\u001b[43m:\u001b[49m\u001b[43mjstart\u001b[49m\u001b[43m]\u001b[49m\u001b[38;5;241;43m.\u001b[39;49m\u001b[43mdot\u001b[49m\u001b[43m(\u001b[49m\u001b[43mR\u001b[49m\u001b[43m[\u001b[49m\u001b[43mistop\u001b[49m\u001b[43m:\u001b[49m\u001b[43mjstart\u001b[49m\u001b[43m,\u001b[49m\n\u001b[0;32m    100\u001b[0m \u001b[43m                                                \u001b[49m\u001b[43mjstart\u001b[49m\u001b[43m:\u001b[49m\u001b[43mjstop\u001b[49m\u001b[43m]\u001b[49m\u001b[43m)\u001b[49m\n\u001b[0;32m    102\u001b[0m \u001b[38;5;66;03m# Invoke LAPACK.\u001b[39;00m\n\u001b[0;32m    103\u001b[0m \u001b[38;5;66;03m# For more details, see the solve_sylvester implementation\u001b[39;00m\n\u001b[0;32m    104\u001b[0m \u001b[38;5;66;03m# and the fortran dtrsyl and ztrsyl docs.\u001b[39;00m\n\u001b[0;32m    105\u001b[0m Rii \u001b[38;5;241m=\u001b[39m R[istart:istop, istart:istop]\n",
      "\u001b[1;31mKeyboardInterrupt\u001b[0m: "
     ]
    }
   ],
   "source": [
    "import qiskit\n",
    "import numpy as np\n",
    "import time\n",
    "from problem import qft\n",
    "import os, utilities\n",
    "from qoop.core import metric\n",
    "\n",
    "types = ['FP32', 'FP16', 'FX32', 'FX24', 'FX16']\n",
    "num_qubits = 17\n",
    "for datatype in types:\n",
    "    print(datatype)\n",
    "    fidelities = []\n",
    "    for num_qubits in range(3, num_qubits + 1):\n",
    "        # from software simulator\n",
    "        state = qft.qft_Qsun_verify(num_qubits) # return amplitudes\n",
    "        state = np.expand_dims(state, axis=1)\n",
    "        sigma = state @ np.transpose(np.conjugate(state))\n",
    "        # from FPGA emulator\n",
    "        state_qft = utilities.read_complex_numbers(f'./data/qft/FPGA_{datatype}/QFT_{datatype}_Output_{num_qubits}_qubit.txt')\n",
    "        state_qft = np.expand_dims(state_qft, axis=1)\n",
    "        rho = state_qft @ np.transpose(np.conjugate(state_qft))\n",
    "        fidelities.append(metric.compilation_trace_fidelity(rho, sigma))\n",
    "        np.savetxt(f'./fidelity/qft/psr_{datatype}_Fidelity.txt', fidelities)"
   ]
  }
 ],
 "metadata": {
  "kernelspec": {
   "display_name": "Python 3",
   "language": "python",
   "name": "python3"
  },
  "language_info": {
   "codemirror_mode": {
    "name": "ipython",
    "version": 3
   },
   "file_extension": ".py",
   "mimetype": "text/x-python",
   "name": "python",
   "nbconvert_exporter": "python",
   "pygments_lexer": "ipython3",
   "version": "3.10.11"
  }
 },
 "nbformat": 4,
 "nbformat_minor": 2
}
